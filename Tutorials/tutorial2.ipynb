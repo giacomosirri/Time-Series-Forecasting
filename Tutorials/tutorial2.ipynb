{
 "cells": [
  {
   "cell_type": "code",
   "execution_count": 1,
   "metadata": {
    "dotnet_interactive": {
     "language": "csharp"
    },
    "vscode": {
     "languageId": "polyglot-notebook"
    }
   },
   "outputs": [
    {
     "data": {
      "text/html": [
       "<div><div></div><div></div><div><strong>Installed Packages</strong><ul><li><span>TorchSharp-cpu, 0.99.4</span></li></ul></div></div>"
      ]
     },
     "metadata": {},
     "output_type": "display_data"
    }
   ],
   "source": [
    "#r \"nuget: TorchSharp-cpu\"\n",
    "\n",
    "using TorchSharp;\n",
    "using static TorchSharp.TensorExtensionMethods;\n",
    "using Microsoft.DotNet.Interactive.Formatting;\n",
    "\n",
    "Formatter.SetPreferredMimeTypesFor(typeof(torch.Tensor), \"text/plain\");\n",
    "Formatter.Register<torch.Tensor>((torch.Tensor x) => x.ToString(TorchSharp.TensorStringStyle.Default));"
   ]
  },
  {
   "cell_type": "markdown",
   "metadata": {},
   "source": [
    "# Tensors\n",
    "\n",
    "In TorchSharp, as in all deep learning, the fundamental data type is a 'tensor,' which is simply a generalized matrix. In Linear Algebra, a one-dimensional arrays are called 'vector,' and a two-dimensional array is a 'matrix.' Generalizing on that, a tensor is simply an N-dimensional array. \n",
    "\n",
    "Please note that there is an overloaded use of the word 'dimensions' here -- in physics, a vector (one dimension) with three elements is used to represents a point in space, one element for each spatial dimension. When we speak of 'dimension' in these tutorials, it is the number of tensor dimensions that is of interest.\n",
    "\n",
    "So, let's get started with tensors by creating some."
   ]
  },
  {
   "attachments": {},
   "cell_type": "markdown",
   "metadata": {},
   "source": [
    "## Constant-Filled Tensors\n",
    "\n",
    "The simplest tensor creation primitives just initializes a tensor with either 0 or 1 in all its elements. The arguments passed in is the size of each dimension. Think of the first dimension as the rows of a table, the second as the columns, and then you just have to generalize things in your head after that. In the examples below, we'll mostly be creating 3x4 matrices, for simplicity.\n",
    "\n",
    "One thing to note is that .NET Interactive will show the object and its fields, etc. when you say just 't' at the end of the notebook cell. What we want for tensors is to show the contents, and there's a special version of ToString() taking a Boolean that shows not just the size and type of the tensor, but also its contents. The special .NET Interactive formatter that is found at the top of the notebook (and should be at the top of all notebooks using TorchSharp) uses ToString(true)."
   ]
  },
  {
   "cell_type": "code",
   "execution_count": 2,
   "metadata": {
    "dotnet_interactive": {
     "language": "csharp"
    },
    "vscode": {
     "languageId": "polyglot-notebook"
    }
   },
   "outputs": [
    {
     "data": {
      "text/plain": [
       "[3x4], type = Float32, device = cpu\r\n",
       " 1 1 1 1\r\n",
       " 1 1 1 1\r\n",
       " 1 1 1 1\r\n"
      ]
     },
     "metadata": {},
     "output_type": "display_data"
    }
   ],
   "source": [
    "var t = torch.ones(3,4);\n",
    "t"
   ]
  },
  {
   "cell_type": "markdown",
   "metadata": {},
   "source": [
    "If you have more than two dimensions, the special version of ToString(t) will try to format it in a way that makes sense to a human:"
   ]
  },
  {
   "cell_type": "code",
   "execution_count": 3,
   "metadata": {
    "dotnet_interactive": {
     "language": "csharp"
    },
    "vscode": {
     "languageId": "polyglot-notebook"
    }
   },
   "outputs": [
    {
     "data": {
      "text/plain": [
       "[2x4x4], type = Float32, device = cpu\r\n",
       "[0,..,..] =\r\n",
       " 1 1 1 1\r\n",
       " 1 1 1 1\r\n",
       " 1 1 1 1\r\n",
       " 1 1 1 1\r\n",
       "\r\n",
       "[1,..,..] =\r\n",
       " 1 1 1 1\r\n",
       " 1 1 1 1\r\n",
       " 1 1 1 1\r\n",
       " 1 1 1 1\r\n"
      ]
     },
     "metadata": {},
     "output_type": "display_data"
    }
   ],
   "source": [
    "torch.ones(2,4,4)"
   ]
  },
  {
   "cell_type": "markdown",
   "metadata": {},
   "source": [
    "If you intend to fill the tensor with values from somewhere else, in other words because you pre-allocated it, there's an 'empty' factory that is faster than using anything else. The values are just whatever was found in memory when the tensor was created. Don't mistake that for random values, though -- they won't adhere to any particular distribution. In fact, one of the main uses for empty tensors is to create one, and then fill it with random numbers from some particular distribution."
   ]
  },
  {
   "cell_type": "code",
   "execution_count": 4,
   "metadata": {
    "dotnet_interactive": {
     "language": "csharp"
    },
    "vscode": {
     "languageId": "polyglot-notebook"
    }
   },
   "outputs": [
    {
     "data": {
      "text/plain": [
       "[4x4], type = Float32, device = cpu\r\n",
       " 0 0           0          0\r\n",
       " 0 0           0          0\r\n",
       " 0 0 -2.7165e+14 4.5911e-41\r\n",
       " 0 0           0          0\r\n"
      ]
     },
     "metadata": {},
     "output_type": "display_data"
    }
   ],
   "source": [
    "torch.empty(4,4)"
   ]
  },
  {
   "cell_type": "markdown",
   "metadata": {},
   "source": [
    "You can also create a tensor from any value you want:"
   ]
  },
  {
   "cell_type": "code",
   "execution_count": 5,
   "metadata": {
    "dotnet_interactive": {
     "language": "csharp"
    },
    "vscode": {
     "languageId": "polyglot-notebook"
    }
   },
   "outputs": [
    {
     "data": {
      "text/plain": [
       "[4x4], type = Float32, device = cpu\r\n",
       " 3.14 3.14 3.14 3.14\r\n",
       " 3.14 3.14 3.14 3.14\r\n",
       " 3.14 3.14 3.14 3.14\r\n",
       " 3.14 3.14 3.14 3.14\r\n"
      ]
     },
     "metadata": {},
     "output_type": "display_data"
    }
   ],
   "source": [
    "torch.full(4,4,3.14f)"
   ]
  },
  {
   "cell_type": "markdown",
   "metadata": {},
   "source": [
    "Sometimes, you want to display more than one value in a cell. To do that, you need to rely on good-old-fashioned printing:"
   ]
  },
  {
   "cell_type": "code",
   "execution_count": 6,
   "metadata": {
    "dotnet_interactive": {
     "language": "csharp"
    },
    "vscode": {
     "languageId": "polyglot-notebook"
    }
   },
   "outputs": [
    {
     "name": "stdout",
     "output_type": "stream",
     "text": [
      "[4x4], type = Float32, device = cpu\n",
      " 0 0 0 0\n",
      " 0 0 0 0\n",
      " 0 0 0 0\n",
      " 0 0 0 0\n",
      "\n",
      "[4x4], type = Float32, device = cpu\n",
      " 1 1 1 1\n",
      " 1 1 1 1\n",
      " 1 1 1 1\n",
      " 1 1 1 1\n"
     ]
    }
   ],
   "source": [
    "var style = torch.TensorStringStyle;\n",
    "Console.WriteLine(torch.zeros(4,4).ToString(style));\n",
    "Console.Write(torch.ones(4,4).ToString(style));"
   ]
  },
  {
   "cell_type": "markdown",
   "metadata": {},
   "source": [
    "All that typing will get pretty tedious, so we added an extension method `print()` that is much quicker to type. It really should only be used in notebooks:"
   ]
  },
  {
   "cell_type": "code",
   "execution_count": 7,
   "metadata": {
    "dotnet_interactive": {
     "language": "csharp"
    },
    "vscode": {
     "languageId": "polyglot-notebook"
    }
   },
   "outputs": [
    {
     "name": "stdout",
     "output_type": "stream",
     "text": [
      "[4x4], type = Float32, device = cpu 0 0 0 0 0 0 0 0 0 0 0 0 0 0 0 0\n",
      "[4x4], type = Float32, device = cpu 1 1 1 1 1 1 1 1 1 1 1 1 1 1 1 1\n"
     ]
    }
   ],
   "source": [
    "torch.zeros(4,4).print();\n",
    "torch.ones(4,4).print();"
   ]
  },
  {
   "cell_type": "markdown",
   "metadata": {},
   "source": [
    "You may have noticed that each tensor has a 'type = Float32' attribute. This is a peculiarity about the TorchSharp tensor type -- the element type does not show up in the type, Tensor is not Tensor\\<T\\>. This is so because the underlying C++ / CUDA runtime represents tensors this way, and it makes it easier to port code from Python, too.\n",
    "\n",
    "You may also have noticed that tensors are created using factories, not constructors. Also, the naming convention doesn't look anything like .NET. We chose to step away from .NET conventions in order to make it easier to port code from Python. We know this will upset some, and please some, but it's the decision we came to after a long time of deliberating.\n",
    "\n",
    "Anyway, 'Float32' is the default, but you can create tensors of other types, too, including complex tensors:"
   ]
  },
  {
   "cell_type": "code",
   "execution_count": 8,
   "metadata": {
    "dotnet_interactive": {
     "language": "csharp"
    },
    "vscode": {
     "languageId": "polyglot-notebook"
    }
   },
   "outputs": [
    {
     "data": {
      "text/plain": [
       "[4x15], type = Int32, device = cpu\r\n",
       " 0 0 0 0 0 0 0 0 0 0 0 0 0 0 0\r\n",
       " 0 0 0 0 0 0 0 0 0 0 0 0 0 0 0\r\n",
       " 0 0 0 0 0 0 0 0 0 0 0 0 0 0 0\r\n",
       " 0 0 0 0 0 0 0 0 0 0 0 0 0 0 0\r\n"
      ]
     },
     "metadata": {},
     "output_type": "display_data"
    }
   ],
   "source": [
    "torch.zeros(4,15, dtype: torch.int32)"
   ]
  },
  {
   "cell_type": "code",
   "execution_count": 11,
   "metadata": {
    "dotnet_interactive": {
     "language": "csharp"
    },
    "vscode": {
     "languageId": "polyglot-notebook"
    }
   },
   "outputs": [
    {
     "data": {
      "text/plain": [
       "[4x4], type = ComplexFloat32, device = cpu\r\n",
       " 0 0 0 0\r\n",
       " 0 0 0 0\r\n",
       " 0 0 0 0\r\n",
       " 0 0 0 0\r\n"
      ]
     },
     "metadata": {},
     "output_type": "display_data"
    }
   ],
   "source": [
    "t = torch.zeros(4,4, dtype: torch.complex64)"
   ]
  },
  {
   "cell_type": "markdown",
   "metadata": {},
   "source": [
    "To access the contents of a tensor, you treat it as a multi-dimensional array (note that the number of dimensions also isn't part of the type itself). When you do, you'll be surprised to see that the result of the indexing operator is another tensor, one that has no shape -- this is how TorchSharp represents a scalar value. Later in this tutorial, we will see why. For now, just know that you have to extract the value using a function, based on the type you expect to get out.\n",
    "\n",
    "In PyTorch, there's a method '.item()' used for this purpose. In TorchSharp, it's a templatized method: "
   ]
  },
  {
   "cell_type": "code",
   "execution_count": 15,
   "metadata": {
    "dotnet_interactive": {
     "language": "csharp"
    },
    "vscode": {
     "languageId": "polyglot-notebook"
    }
   },
   "outputs": [
    {
     "name": "stdout",
     "output_type": "stream",
     "text": [
      "[], type = Int32, device = cpu"
     ]
    },
    {
     "data": {
      "text/html": [
       "<div class=\"dni-plaintext\"><pre>0</pre></div><style>\r\n",
       ".dni-code-hint {\r\n",
       "    font-style: italic;\r\n",
       "    overflow: hidden;\r\n",
       "    white-space: nowrap;\r\n",
       "}\r\n",
       ".dni-treeview {\r\n",
       "    white-space: nowrap;\r\n",
       "}\r\n",
       ".dni-treeview td {\r\n",
       "    vertical-align: top;\r\n",
       "    text-align: start;\r\n",
       "}\r\n",
       "details.dni-treeview {\r\n",
       "    padding-left: 1em;\r\n",
       "}\r\n",
       "table td {\r\n",
       "    text-align: start;\r\n",
       "}\r\n",
       "table tr { \r\n",
       "    vertical-align: top; \r\n",
       "    margin: 0em 0px;\r\n",
       "}\r\n",
       "table tr td pre \r\n",
       "{ \r\n",
       "    vertical-align: top !important; \r\n",
       "    margin: 0em 0px !important;\r\n",
       "} \r\n",
       "table th {\r\n",
       "    text-align: start;\r\n",
       "}\r\n",
       "</style>"
      ]
     },
     "metadata": {},
     "output_type": "display_data"
    }
   ],
   "source": [
    "t = torch.zeros(4,4, dtype: torch.int32);\n",
    "Console.Write(t[0,0]);\n",
    "t[0,0].item<int>()"
   ]
  },
  {
   "cell_type": "markdown",
   "metadata": {},
   "source": [
    "To write to a single element, you have to create a tensor from the value you want to write."
   ]
  },
  {
   "cell_type": "code",
   "execution_count": 16,
   "metadata": {
    "dotnet_interactive": {
     "language": "csharp"
    },
    "vscode": {
     "languageId": "polyglot-notebook"
    }
   },
   "outputs": [
    {
     "data": {
      "text/plain": [
       "[4x4], type = Int32, device = cpu\r\n",
       " 35 0 0 0\r\n",
       "  0 0 0 0\r\n",
       "  0 0 0 0\r\n",
       "  0 0 0 0\r\n"
      ]
     },
     "metadata": {},
     "output_type": "display_data"
    }
   ],
   "source": [
    "t[0,0] = torch.tensor(35);\n",
    "t"
   ]
  },
  {
   "cell_type": "markdown",
   "metadata": {},
   "source": [
    "## Randomized Tensors\n",
    "\n",
    "In machine learning, random number generation is very important, and you often end up using the RNG APIs to create tensors. There are a big number of RNGs, most of them for floating point values, but there are some for integers, too.\n",
    "\n",
    "The usual suspects are present -- normal and uniform distributions, binomial (true/false or 0/1) and uniformly distributed integers. A separate tutorial will disscuss random number generation in more detail."
   ]
  },
  {
   "cell_type": "code",
   "execution_count": 17,
   "metadata": {
    "dotnet_interactive": {
     "language": "csharp"
    },
    "vscode": {
     "languageId": "polyglot-notebook"
    }
   },
   "outputs": [
    {
     "data": {
      "text/plain": [
       "[3x4], type = Float32, device = cpu\r\n",
       " 0.11679  1.3521   1.0027 -0.36861\r\n",
       "  0.4594 0.28123 -0.49085 -0.63107\r\n",
       " -0.3959  2.7588   0.8526   -2.492\r\n"
      ]
     },
     "metadata": {},
     "output_type": "display_data"
    }
   ],
   "source": [
    "// Normal distribution\n",
    "torch.randn(3,4)"
   ]
  },
  {
   "cell_type": "code",
   "execution_count": 19,
   "metadata": {
    "dotnet_interactive": {
     "language": "csharp"
    },
    "vscode": {
     "languageId": "polyglot-notebook"
    }
   },
   "outputs": [
    {
     "data": {
      "text/plain": [
       "[3x4], type = Float32, device = cpu\r\n",
       " 0.81976 0.38906  0.61387 0.36065\r\n",
       " 0.11289 0.89563 0.020972 0.63614\r\n",
       " 0.80759 0.19875  0.24315 0.25521\r\n"
      ]
     },
     "metadata": {},
     "output_type": "display_data"
    }
   ],
   "source": [
    "// Uniform distribution between [0,1)\n",
    "torch.rand(3,4)"
   ]
  },
  {
   "cell_type": "markdown",
   "metadata": {},
   "source": [
    "To change the range, just multiply and/or add:"
   ]
  },
  {
   "cell_type": "code",
   "execution_count": 20,
   "metadata": {
    "dotnet_interactive": {
     "language": "csharp"
    },
    "vscode": {
     "languageId": "polyglot-notebook"
    }
   },
   "outputs": [
    {
     "data": {
      "text/plain": [
       "[3x4], type = Float32, device = cpu\r\n",
       " 109.05 103.61 101.92 107.21\r\n",
       " 105.92 100.11 107.39 106.71\r\n",
       " 105.33 107.57  106.3 106.72\r\n"
      ]
     },
     "metadata": {},
     "output_type": "display_data"
    }
   ],
   "source": [
    "// Uniform distribution between [100,110)\n",
    "(torch.rand(3,4) * 10 + 100)"
   ]
  },
  {
   "cell_type": "markdown",
   "metadata": {},
   "source": [
    "The main factory for integer values is not quite as convenient to use -- in the function signature, there is an integer to pass in for the max value, so the dimension values have to be passed in an array or tuple. In C#, the tuple literal syntax is more concise than array literals:"
   ]
  },
  {
   "cell_type": "code",
   "execution_count": 25,
   "metadata": {
    "dotnet_interactive": {
     "language": "csharp"
    },
    "vscode": {
     "languageId": "polyglot-notebook"
    }
   },
   "outputs": [
    {
     "data": {
      "text/plain": [
       "[3x4], type = Int64, device = cpu\r\n",
       " 5 2 5 6\r\n",
       " 7 5 7 8\r\n",
       " 2 9 9 1\r\n"
      ]
     },
     "metadata": {},
     "output_type": "display_data"
    }
   ],
   "source": [
    "// torch.randint(10, new int[] {3,4}) would be valid too\n",
    "torch.randint(10, (3,4))"
   ]
  },
  {
   "cell_type": "markdown",
   "metadata": {},
   "source": [
    "There's a lot more to know about random number generation -- TorchSharp offers a great many distributions and way to initialize tensor. This space is so rich, it has its own tutorial coming up later."
   ]
  },
  {
   "cell_type": "markdown",
   "metadata": {},
   "source": [
    "## Tensors and .NET Arrays\n",
    "\n",
    "Tensors are needed when using TorchSharp operations, providing the right abstractions for parallelism and GPU acceleration. However, it is sometimes necessary to either create a tensor from .NET arrays, or get a .NET array out of a tensor. If for no other reason, to do I/O.\n"
   ]
  },
  {
   "cell_type": "markdown",
   "metadata": {},
   "source": [
    "\n",
    "### Creating a Tensor\n",
    "\n",
    "Several tensor factories exist that take .NET arrays as input. The main difference is whether they copy the array or try to share the underlying storage.\n",
    "\n",
    "```C#\n",
    "// Never copy:\n",
    "public static Tensor from_array(Array input)\n",
    "\n",
    "// Copy only if dtype or device arguments require it:\n",
    "public static Tensor frombuffer(Array input, ScalarType dtype, long count = -1, long offset = 0, bool requiresGrad = false, Device? device = null)\n",
    "public static Tensor as_tensor(Array input,  ScalarType? dtype = null, Device? device = null)\n",
    "public static Tensor as_tensor(Tensor input, ScalarType? dtype = null, Device? device = null)\n",
    "\n",
    "// Always copy:\n",
    "public static Tensor as_tensor(IList<<VARIOUS TYPES>> input,  ScalarType? dtype = null, Device? device = null)\n",
    "public static Tensor tensor(<<VARIOUS TYPES>> input, torch.Device? device = null, bool requiresGrad = false)\n",
    "```\n",
    "\n",
    "In all cases, the resulting tensor gets its element type from the input array, unless it's overriden by the `dtype` argument. The tensor will be on the CPU unless overriden by the `device` argument.\n"
   ]
  },
  {
   "cell_type": "code",
   "execution_count": 26,
   "metadata": {
    "dotnet_interactive": {
     "language": "csharp"
    },
    "vscode": {
     "languageId": "polyglot-notebook"
    }
   },
   "outputs": [
    {
     "name": "stdout",
     "output_type": "stream",
     "text": [
      "[10], type = Float32, device = cpu 1 2 3 4 5 6 7 8 9 10\n",
      "[10], type = Int64, device = cpu 1 2 3 4 5 6 7 8 9 10\n"
     ]
    }
   ],
   "source": [
    "torch.tensor(new float[] { 1, 2, 3, 4, 5, 6, 7, 8, 9, 10 }).print();\n",
    "torch.tensor(new long[] { 1, 2, 3, 4, 5, 6, 7, 8, 9, 10 }).print();"
   ]
  },
  {
   "cell_type": "markdown",
   "metadata": {},
   "source": [
    "Since `torch.from_array` doesn't copy the data, modifying the tensor or the array will affect the other:"
   ]
  },
  {
   "cell_type": "code",
   "execution_count": 27,
   "metadata": {
    "dotnet_interactive": {
     "language": "csharp"
    },
    "vscode": {
     "languageId": "polyglot-notebook"
    }
   },
   "outputs": [
    {
     "name": "stdout",
     "output_type": "stream",
     "text": [
      "[10], type = Float32, device = cpu 1 2 3 4 5 6 7 8 9 10\n",
      "[10], type = Float32, device = cpu 1 2 3 4 100 6 7 8 9 10\n"
     ]
    },
    {
     "data": {
      "text/html": [
       "<div class=\"dni-plaintext\"><pre>[ 1, 2, 3, 4, 100, 6, 200, 8, 9, 10 ]</pre></div><style>\r\n",
       ".dni-code-hint {\r\n",
       "    font-style: italic;\r\n",
       "    overflow: hidden;\r\n",
       "    white-space: nowrap;\r\n",
       "}\r\n",
       ".dni-treeview {\r\n",
       "    white-space: nowrap;\r\n",
       "}\r\n",
       ".dni-treeview td {\r\n",
       "    vertical-align: top;\r\n",
       "    text-align: start;\r\n",
       "}\r\n",
       "details.dni-treeview {\r\n",
       "    padding-left: 1em;\r\n",
       "}\r\n",
       "table td {\r\n",
       "    text-align: start;\r\n",
       "}\r\n",
       "table tr { \r\n",
       "    vertical-align: top; \r\n",
       "    margin: 0em 0px;\r\n",
       "}\r\n",
       "table tr td pre \r\n",
       "{ \r\n",
       "    vertical-align: top !important; \r\n",
       "    margin: 0em 0px !important;\r\n",
       "} \r\n",
       "table th {\r\n",
       "    text-align: start;\r\n",
       "}\r\n",
       "</style>"
      ]
     },
     "metadata": {},
     "output_type": "display_data"
    }
   ],
   "source": [
    "var arr = new float[] { 1, 2, 3, 4, 5, 6, 7, 8, 9, 10 };\n",
    "var tArr = torch.from_array(arr);\n",
    "\n",
    "tArr.print();\n",
    "arr[4] = 100;\n",
    "tArr.print();\n",
    "tArr[6] = 200;\n",
    "arr"
   ]
  },
  {
   "cell_type": "markdown",
   "metadata": {},
   "source": [
    "\n",
    "### Extracting an Array from a Tensor\n",
    "\n",
    "To get access to the internal data of a tensor as .NET array, use the 'data<T>()' property. It doesn't return an array, but a TensorAccessor<T>, which implements IEnumerable<T> and can therefore be turned into an array. The TensorAccessor<T> instance keeps a reference to the tensor data, but calling `ToArray<T>()` on it will create a copy."
   ]
  },
  {
   "cell_type": "code",
   "execution_count": 28,
   "metadata": {
    "dotnet_interactive": {
     "language": "csharp"
    },
    "vscode": {
     "languageId": "polyglot-notebook"
    }
   },
   "outputs": [
    {
     "data": {
      "text/html": [
       "<div class=\"dni-plaintext\"><pre>[ 0.25941318, 0.9845415, 0.22535098, 0.88925034, 0.9458009, 0.9639127, 0.06761569, 0.019217074, 0.4092127, 0.2522205 ]</pre></div><style>\r\n",
       ".dni-code-hint {\r\n",
       "    font-style: italic;\r\n",
       "    overflow: hidden;\r\n",
       "    white-space: nowrap;\r\n",
       "}\r\n",
       ".dni-treeview {\r\n",
       "    white-space: nowrap;\r\n",
       "}\r\n",
       ".dni-treeview td {\r\n",
       "    vertical-align: top;\r\n",
       "    text-align: start;\r\n",
       "}\r\n",
       "details.dni-treeview {\r\n",
       "    padding-left: 1em;\r\n",
       "}\r\n",
       "table td {\r\n",
       "    text-align: start;\r\n",
       "}\r\n",
       "table tr { \r\n",
       "    vertical-align: top; \r\n",
       "    margin: 0em 0px;\r\n",
       "}\r\n",
       "table tr td pre \r\n",
       "{ \r\n",
       "    vertical-align: top !important; \r\n",
       "    margin: 0em 0px !important;\r\n",
       "} \r\n",
       "table th {\r\n",
       "    text-align: start;\r\n",
       "}\r\n",
       "</style>"
      ]
     },
     "metadata": {},
     "output_type": "display_data"
    }
   ],
   "source": [
    "var t = torch.rand(2,5);\n",
    "TorchSharp.Utils.TensorAccessor<float> ta = t.data<float>();\n",
    "float[] a = ta.ToArray();\n",
    "a"
   ]
  },
  {
   "cell_type": "markdown",
   "metadata": {},
   "source": [
    "# Ranges\n",
    "\n",
    "Another common and convenient tensor factory is `arange()`, which is used to create a 1D tensor with numbers ranging from a min to a max, exclusive of the max. You can provide the step value, or let it be the default, which is 1:"
   ]
  },
  {
   "cell_type": "code",
   "execution_count": 29,
   "metadata": {
    "dotnet_interactive": {
     "language": "csharp"
    },
    "vscode": {
     "languageId": "polyglot-notebook"
    }
   },
   "outputs": [
    {
     "data": {
      "text/plain": [
       "[16], type = Int64, device = cpu\r\n",
       " 3 4 5 6 7 8 9 10 11 12 13 14 15 16 17 18\r\n"
      ]
     },
     "metadata": {},
     "output_type": "display_data"
    }
   ],
   "source": [
    "torch.arange(3,19)"
   ]
  },
  {
   "attachments": {},
   "cell_type": "markdown",
   "metadata": {},
   "source": [
    "As you can see, `arange` behaves a little differently from other factories -- the default element type is not float32, it's inferred from the arguments. To use floating-point, we either specify the type, or use floating-point values as arguments:"
   ]
  },
  {
   "cell_type": "code",
   "execution_count": 30,
   "metadata": {
    "dotnet_interactive": {
     "language": "csharp"
    },
    "vscode": {
     "languageId": "polyglot-notebook"
    }
   },
   "outputs": [
    {
     "data": {
      "text/plain": [
       "[11], type = Float32, device = cpu\r\n",
       " 3 4 5 6 7 8 9 10 11 12 13\r\n"
      ]
     },
     "metadata": {},
     "output_type": "display_data"
    }
   ],
   "source": [
    "torch.arange(3.0f, 14.0f)"
   ]
  },
  {
   "cell_type": "markdown",
   "metadata": {},
   "source": [
    "The step argument will allow us to get a more fine-grained number series:"
   ]
  },
  {
   "cell_type": "code",
   "execution_count": 31,
   "metadata": {
    "dotnet_interactive": {
     "language": "csharp"
    },
    "vscode": {
     "languageId": "polyglot-notebook"
    }
   },
   "outputs": [
    {
     "data": {
      "text/plain": [
       "[20], type = Float32, device = cpu\r\n",
       " 3 3.1 3.2 3.3 3.4 3.5 3.6 3.7 3.8 3.9 4 4.1 4.2 4.3 4.4 4.5 4.6 4.7 4.8 4.9\r\n"
      ]
     },
     "metadata": {},
     "output_type": "display_data"
    }
   ],
   "source": [
    "torch.arange(3.0f, 5.0f, step: 0.1f)"
   ]
  },
  {
   "cell_type": "markdown",
   "metadata": {},
   "source": [
    "## reshape()\n",
    "\n",
    "There is no way to make `arange` produce anything but a 1D tensor, so a common thing to do is to reshape it as soon as it's created."
   ]
  },
  {
   "cell_type": "code",
   "execution_count": 34,
   "metadata": {
    "dotnet_interactive": {
     "language": "csharp"
    },
    "vscode": {
     "languageId": "polyglot-notebook"
    }
   },
   "outputs": [
    {
     "data": {
      "text/plain": [
       "[4x5], type = Float32, device = cpu\r\n",
       "   3 3.1 3.2 3.3 3.4\r\n",
       " 3.5 3.6 3.7 3.8 3.9\r\n",
       "   4 4.1 4.2 4.3 4.4\r\n",
       " 4.5 4.6 4.7 4.8 4.9\r\n"
      ]
     },
     "metadata": {},
     "output_type": "display_data"
    }
   ],
   "source": [
    "torch.arange(3.0f, 5.0f, step: 0.1f).reshape(4,5)"
   ]
  },
  {
   "attachments": {},
   "cell_type": "markdown",
   "metadata": {},
   "source": [
    "When printing out floating-point tensors, it is often helpful to provide a formatting string, applied only to FP elements, including the real and imaginary parts of complex numbers. `.ToString(true, fltFormat: \"0.00\")` would be a lot to type every time, so TorchSharp defines a shorter (and Python-looking) method `str()` that does the trick. `print()` also takes a format string."
   ]
  },
  {
   "cell_type": "code",
   "execution_count": 35,
   "metadata": {
    "dotnet_interactive": {
     "language": "csharp"
    },
    "vscode": {
     "languageId": "polyglot-notebook"
    }
   },
   "outputs": [
    {
     "data": {
      "text/plain": [
       "[4x5], type = Float32, device = cpu\n",
       " 3.00 3.10 3.20 3.30 3.40\n",
       " 3.50 3.60 3.70 3.80 3.90\n",
       " 4.00 4.10 4.20 4.30 4.40\n",
       " 4.50 4.60 4.70 4.80 4.90\n"
      ]
     },
     "metadata": {},
     "output_type": "display_data"
    }
   ],
   "source": [
    "torch.arange(3.0f, 5.0f, step: 0.1f).reshape(4,5).str(fltFormat: \"0.00\")"
   ]
  },
  {
   "cell_type": "markdown",
   "metadata": {},
   "source": [
    "`reshape()` is, of course, useful for many other things, too, not just shaping the result of `arange()`. One thing that is very useful to know is that you can pass in '-1' for __one__ of the dimensions, and it has a very special meaning. Let's look at an example:"
   ]
  },
  {
   "cell_type": "code",
   "execution_count": 43,
   "metadata": {
    "dotnet_interactive": {
     "language": "csharp"
    },
    "vscode": {
     "languageId": "polyglot-notebook"
    }
   },
   "outputs": [
    {
     "data": {
      "text/plain": [
       "[12x4x4], type = Float32, device = cpu"
      ]
     },
     "metadata": {},
     "output_type": "display_data"
    }
   ],
   "source": [
    "t = torch.rand(3,4,4,4);\n",
    "t.reshape(12, 4, 4).ToString()"
   ]
  },
  {
   "cell_type": "code",
   "execution_count": 44,
   "metadata": {
    "dotnet_interactive": {
     "language": "csharp"
    },
    "vscode": {
     "languageId": "polyglot-notebook"
    }
   },
   "outputs": [
    {
     "data": {
      "text/plain": [
       "[12x4x4], type = Float32, device = cpu"
      ]
     },
     "metadata": {},
     "output_type": "display_data"
    }
   ],
   "source": [
    "t.reshape(-1,4,4).ToString()"
   ]
  },
  {
   "cell_type": "code",
   "execution_count": 45,
   "metadata": {
    "dotnet_interactive": {
     "language": "csharp"
    },
    "vscode": {
     "languageId": "polyglot-notebook"
    }
   },
   "outputs": [
    {
     "data": {
      "text/plain": [
       "[4x8x6], type = Float32, device = cpu"
      ]
     },
     "metadata": {},
     "output_type": "display_data"
    }
   ],
   "source": [
    "t.reshape(4,-1,6).ToString()"
   ]
  },
  {
   "cell_type": "markdown",
   "metadata": {},
   "source": [
    "As you can see, -1 is a wildcard. After the rest of the arguments specify their respective sizes, the -1 dimension is determined from the overall number of elements and the dimensions that have been specified. Obviously, it can only be used to construct a proper tensor if the other dimensions are correct. This, for example, results in an exception:"
   ]
  },
  {
   "cell_type": "code",
   "execution_count": 46,
   "metadata": {
    "dotnet_interactive": {
     "language": "csharp"
    },
    "vscode": {
     "languageId": "polyglot-notebook"
    }
   },
   "outputs": [
    {
     "ename": "Error",
     "evalue": "System.Runtime.InteropServices.ExternalException (0x80004005): shape '[4, -1, 5]' is invalid for input of size 192\r\n   at TorchSharp.torch.CheckForErrors()\r\n   at TorchSharp.torch.Tensor.reshape(Int64[] shape)\r\n   at Submission#47.<<Initialize>>d__0.MoveNext()\r\n--- End of stack trace from previous location ---\r\n   at Microsoft.CodeAnalysis.Scripting.ScriptExecutionState.RunSubmissionsAsync[TResult](ImmutableArray`1 precedingExecutors, Func`2 currentExecutor, StrongBox`1 exceptionHolderOpt, Func`2 catchExceptionOpt, CancellationToken cancellationToken)",
     "output_type": "error",
     "traceback": [
      "System.Runtime.InteropServices.ExternalException (0x80004005): shape '[4, -1, 5]' is invalid for input of size 192\r\n",
      "   at TorchSharp.torch.CheckForErrors()\r\n",
      "   at TorchSharp.torch.Tensor.reshape(Int64[] shape)\r\n",
      "   at Submission#47.<<Initialize>>d__0.MoveNext()\r\n",
      "--- End of stack trace from previous location ---\r\n",
      "   at Microsoft.CodeAnalysis.Scripting.ScriptExecutionState.RunSubmissionsAsync[TResult](ImmutableArray`1 precedingExecutors, Func`2 currentExecutor, StrongBox`1 exceptionHolderOpt, Func`2 catchExceptionOpt, CancellationToken cancellationToken)"
     ]
    }
   ],
   "source": [
    "t.reshape(4,-1,5).ToString()"
   ]
  },
  {
   "cell_type": "markdown",
   "metadata": {},
   "source": [
    "# Common Tensor Properties and Operations\n",
    "\n",
    "There is a large number of operations on tensors. Here are some of the most commonly used ones."
   ]
  },
  {
   "cell_type": "code",
   "execution_count": 47,
   "metadata": {
    "dotnet_interactive": {
     "language": "csharp"
    },
    "vscode": {
     "languageId": "polyglot-notebook"
    }
   },
   "outputs": [
    {
     "data": {
      "text/html": [
       "<div class=\"dni-plaintext\"><pre>[ 2, 2, 5 ]</pre></div><style>\r\n",
       ".dni-code-hint {\r\n",
       "    font-style: italic;\r\n",
       "    overflow: hidden;\r\n",
       "    white-space: nowrap;\r\n",
       "}\r\n",
       ".dni-treeview {\r\n",
       "    white-space: nowrap;\r\n",
       "}\r\n",
       ".dni-treeview td {\r\n",
       "    vertical-align: top;\r\n",
       "    text-align: start;\r\n",
       "}\r\n",
       "details.dni-treeview {\r\n",
       "    padding-left: 1em;\r\n",
       "}\r\n",
       "table td {\r\n",
       "    text-align: start;\r\n",
       "}\r\n",
       "table tr { \r\n",
       "    vertical-align: top; \r\n",
       "    margin: 0em 0px;\r\n",
       "}\r\n",
       "table tr td pre \r\n",
       "{ \r\n",
       "    vertical-align: top !important; \r\n",
       "    margin: 0em 0px !important;\r\n",
       "} \r\n",
       "table th {\r\n",
       "    text-align: start;\r\n",
       "}\r\n",
       "</style>"
      ]
     },
     "metadata": {},
     "output_type": "display_data"
    }
   ],
   "source": [
    "t = torch.arange(3.0f, 5.0f, step: 0.1f).reshape(2,2,5);\n",
    "\n",
    "// The overall shape of the tensor:\n",
    "t.shape"
   ]
  },
  {
   "cell_type": "code",
   "execution_count": 48,
   "metadata": {
    "dotnet_interactive": {
     "language": "csharp"
    },
    "vscode": {
     "languageId": "polyglot-notebook"
    }
   },
   "outputs": [
    {
     "data": {
      "text/html": [
       "<div class=\"dni-plaintext\"><pre>3</pre></div><style>\r\n",
       ".dni-code-hint {\r\n",
       "    font-style: italic;\r\n",
       "    overflow: hidden;\r\n",
       "    white-space: nowrap;\r\n",
       "}\r\n",
       ".dni-treeview {\r\n",
       "    white-space: nowrap;\r\n",
       "}\r\n",
       ".dni-treeview td {\r\n",
       "    vertical-align: top;\r\n",
       "    text-align: start;\r\n",
       "}\r\n",
       "details.dni-treeview {\r\n",
       "    padding-left: 1em;\r\n",
       "}\r\n",
       "table td {\r\n",
       "    text-align: start;\r\n",
       "}\r\n",
       "table tr { \r\n",
       "    vertical-align: top; \r\n",
       "    margin: 0em 0px;\r\n",
       "}\r\n",
       "table tr td pre \r\n",
       "{ \r\n",
       "    vertical-align: top !important; \r\n",
       "    margin: 0em 0px !important;\r\n",
       "} \r\n",
       "table th {\r\n",
       "    text-align: start;\r\n",
       "}\r\n",
       "</style>"
      ]
     },
     "metadata": {},
     "output_type": "display_data"
    }
   ],
   "source": [
    "// The number of dimensions:\n",
    "t.ndim"
   ]
  },
  {
   "cell_type": "code",
   "execution_count": 51,
   "metadata": {
    "dotnet_interactive": {
     "language": "csharp"
    },
    "vscode": {
     "languageId": "polyglot-notebook"
    }
   },
   "outputs": [
    {
     "data": {
      "text/html": [
       "<div class=\"dni-plaintext\"><pre>20</pre></div><style>\r\n",
       ".dni-code-hint {\r\n",
       "    font-style: italic;\r\n",
       "    overflow: hidden;\r\n",
       "    white-space: nowrap;\r\n",
       "}\r\n",
       ".dni-treeview {\r\n",
       "    white-space: nowrap;\r\n",
       "}\r\n",
       ".dni-treeview td {\r\n",
       "    vertical-align: top;\r\n",
       "    text-align: start;\r\n",
       "}\r\n",
       "details.dni-treeview {\r\n",
       "    padding-left: 1em;\r\n",
       "}\r\n",
       "table td {\r\n",
       "    text-align: start;\r\n",
       "}\r\n",
       "table tr { \r\n",
       "    vertical-align: top; \r\n",
       "    margin: 0em 0px;\r\n",
       "}\r\n",
       "table tr td pre \r\n",
       "{ \r\n",
       "    vertical-align: top !important; \r\n",
       "    margin: 0em 0px !important;\r\n",
       "} \r\n",
       "table th {\r\n",
       "    text-align: start;\r\n",
       "}\r\n",
       "</style>"
      ]
     },
     "metadata": {},
     "output_type": "display_data"
    }
   ],
   "source": [
    "// The total number of elements held in the tensor:\n",
    "t.numel()"
   ]
  },
  {
   "cell_type": "code",
   "execution_count": 52,
   "metadata": {
    "dotnet_interactive": {
     "language": "csharp"
    },
    "vscode": {
     "languageId": "polyglot-notebook"
    }
   },
   "outputs": [
    {
     "data": {
      "text/plain": [
       "[2x2x5], type = Float32, device = cpu\r\n",
       "[0,..,..] =\r\n",
       "   3 3.1 3.2 3.3 3.4\r\n",
       " 3.5 3.6 3.7 3.8 3.9\r\n",
       "\r\n",
       "[1,..,..] =\r\n",
       "   4 4.1 4.2 4.3 4.4\r\n",
       " 4.5 4.6 4.7 4.8 4.9\r\n"
      ]
     },
     "metadata": {},
     "output_type": "display_data"
    }
   ],
   "source": [
    "// Move the tensor to the GPU and back to the CPU:\n",
    "\n",
    "// t.cuda() // Uncomment if you're using one of the CUDA backends.\n",
    "t.cpu()"
   ]
  },
  {
   "cell_type": "code",
   "execution_count": 57,
   "metadata": {
    "dotnet_interactive": {
     "language": "csharp"
    },
    "vscode": {
     "languageId": "polyglot-notebook"
    }
   },
   "outputs": [
    {
     "name": "stdout",
     "output_type": "stream",
     "text": [
      "[4x5], type = Float32, device = cpu 3.00 3.10 3.20 3.30 3.40 3.50 3.60 3.70 3.80 3.90 4.00 4.10 4.20 4.30 4.40 4.50 4.60 4.70 4.80 4.90\n",
      "[5x4], type = Float32, device = cpu 3.00 3.50 4.00 4.50 3.10 3.60 4.10 4.60 3.20 3.70 4.20 4.70 3.30 3.80 4.30 4.80 3.40 3.90 4.40 4.90\n"
     ]
    }
   ],
   "source": [
    "// Getting the transpose of a matrix:\n",
    "torch.arange(3.0f, 5.0f, step: 0.1f).reshape(4,5).print(fltFormat: \"0.00\");\n",
    "torch.arange(3.0f, 5.0f, step: 0.1f).reshape(4,5).T.print(fltFormat: \"0.00\");"
   ]
  },
  {
   "cell_type": "markdown",
   "metadata": {},
   "source": [
    "It's important to note that transposing isn't the same as simply reshaping to a different shape:"
   ]
  },
  {
   "cell_type": "code",
   "execution_count": 58,
   "metadata": {
    "dotnet_interactive": {
     "language": "csharp"
    },
    "vscode": {
     "languageId": "polyglot-notebook"
    }
   },
   "outputs": [
    {
     "name": "stdout",
     "output_type": "stream",
     "text": [
      "[5x4], type = Float32, device = cpu 3.00 3.10 3.20 3.30 3.40 3.50 3.60 3.70 3.80 3.90 4.00 4.10 4.20 4.30 4.40 4.50 4.60 4.70 4.80 4.90\n",
      "[5x4], type = Float32, device = cpu 3.00 3.50 4.00 4.50 3.10 3.60 4.10 4.60 3.20 3.70 4.20 4.70 3.30 3.80 4.30 4.80 3.40 3.90 4.40 4.90\n"
     ]
    }
   ],
   "source": [
    "torch.arange(3.0f, 5.0f, step: 0.1f).reshape(5,4).print(fltFormat: \"0.00\");\n",
    "torch.arange(3.0f, 5.0f, step: 0.1f).reshape(4,5).T.print(fltFormat: \"0.00\");"
   ]
  },
  {
   "cell_type": "markdown",
   "metadata": {},
   "source": [
    "If you need to have some idea of how many tensors you have allocated in you process, there's a static property `TotalCount` that tells you just how many .NET tensors are active. That's not all tensors, just those that have a .NET representation. Temporaries used by the native library and not surfaced to managed code don't count.\n",
    "\n",
    "The property is useful if you are diagnosing memory issues, for example in a training loop. If the number of tensors keeps growing, somewhere there's a missing Dispose() call."
   ]
  },
  {
   "cell_type": "code",
   "execution_count": 59,
   "metadata": {
    "dotnet_interactive": {
     "language": "csharp"
    },
    "vscode": {
     "languageId": "polyglot-notebook"
    }
   },
   "outputs": [
    {
     "data": {
      "text/html": [
       "<div class=\"dni-plaintext\"><pre>158</pre></div><style>\r\n",
       ".dni-code-hint {\r\n",
       "    font-style: italic;\r\n",
       "    overflow: hidden;\r\n",
       "    white-space: nowrap;\r\n",
       "}\r\n",
       ".dni-treeview {\r\n",
       "    white-space: nowrap;\r\n",
       "}\r\n",
       ".dni-treeview td {\r\n",
       "    vertical-align: top;\r\n",
       "    text-align: start;\r\n",
       "}\r\n",
       "details.dni-treeview {\r\n",
       "    padding-left: 1em;\r\n",
       "}\r\n",
       "table td {\r\n",
       "    text-align: start;\r\n",
       "}\r\n",
       "table tr { \r\n",
       "    vertical-align: top; \r\n",
       "    margin: 0em 0px;\r\n",
       "}\r\n",
       "table tr td pre \r\n",
       "{ \r\n",
       "    vertical-align: top !important; \r\n",
       "    margin: 0em 0px !important;\r\n",
       "} \r\n",
       "table th {\r\n",
       "    text-align: start;\r\n",
       "}\r\n",
       "</style>"
      ]
     },
     "metadata": {},
     "output_type": "display_data"
    }
   ],
   "source": [
    "torch.Tensor.TotalCount"
   ]
  },
  {
   "cell_type": "markdown",
   "metadata": {},
   "source": [
    "There's also a `PeakCount` static property that keeps track of the high-water mark:"
   ]
  },
  {
   "cell_type": "code",
   "execution_count": 60,
   "metadata": {
    "dotnet_interactive": {
     "language": "csharp"
    },
    "vscode": {
     "languageId": "polyglot-notebook"
    }
   },
   "outputs": [
    {
     "data": {
      "text/html": [
       "<div class=\"dni-plaintext\"><pre>502</pre></div><style>\r\n",
       ".dni-code-hint {\r\n",
       "    font-style: italic;\r\n",
       "    overflow: hidden;\r\n",
       "    white-space: nowrap;\r\n",
       "}\r\n",
       ".dni-treeview {\r\n",
       "    white-space: nowrap;\r\n",
       "}\r\n",
       ".dni-treeview td {\r\n",
       "    vertical-align: top;\r\n",
       "    text-align: start;\r\n",
       "}\r\n",
       "details.dni-treeview {\r\n",
       "    padding-left: 1em;\r\n",
       "}\r\n",
       "table td {\r\n",
       "    text-align: start;\r\n",
       "}\r\n",
       "table tr { \r\n",
       "    vertical-align: top; \r\n",
       "    margin: 0em 0px;\r\n",
       "}\r\n",
       "table tr td pre \r\n",
       "{ \r\n",
       "    vertical-align: top !important; \r\n",
       "    margin: 0em 0px !important;\r\n",
       "} \r\n",
       "table th {\r\n",
       "    text-align: start;\r\n",
       "}\r\n",
       "</style>"
      ]
     },
     "metadata": {},
     "output_type": "display_data"
    }
   ],
   "source": [
    "torch.Tensor.PeakCount"
   ]
  },
  {
   "cell_type": "markdown",
   "metadata": {},
   "source": [
    "Create a copy of a tensor by calling `clone()`. The new tensor will have its own backing storage space."
   ]
  },
  {
   "cell_type": "code",
   "execution_count": 63,
   "metadata": {
    "dotnet_interactive": {
     "language": "csharp"
    },
    "vscode": {
     "languageId": "polyglot-notebook"
    }
   },
   "outputs": [
    {
     "name": "stdout",
     "output_type": "stream",
     "text": [
      "[2x2x5], type = Float32, device = cpu\r\n",
      "[0,..,..] =\r\n",
      "   3 375 3.2 3.3 3.4\r\n",
      " 3.5 3.6 3.7 3.8 3.9\r\n",
      "\r\n",
      "[1,..,..] =\r\n",
      "   4 4.1 4.2 4.3 4.4\r\n",
      " 4.5 4.6 4.7 4.8 4.9\r\n",
      "\r\n"
     ]
    },
    {
     "data": {
      "text/plain": [
       "[2x2x5], type = Float32, device = cpu\r\n",
       "[0,..,..] =\r\n",
       "   3 3.1 3.2 3.3 3.4\r\n",
       " 3.5 3.6 3.7 3.8 3.9\r\n",
       "\r\n",
       "[1,..,..] =\r\n",
       "   4 4.1 4.2 4.3 4.4\r\n",
       " 4.5 4.6 4.7 4.8 4.9\r\n"
      ]
     },
     "metadata": {},
     "output_type": "display_data"
    }
   ],
   "source": [
    "// Clone a tensor:\n",
    "var s = t.clone();\n",
    "s[0,0,1] = torch.tensor(375);\n",
    "Console.WriteLine(s.ToString(TensorStringStyle.Default));\n",
    "t"
   ]
  },
  {
   "cell_type": "markdown",
   "metadata": {},
   "source": [
    "Create a new managed code reference to the same underlying tensor data by calling `alias()`. This is useful when a function needs to return an input tensor, but the caller has reason to expect a fresh reference. For example, the caller may assume that you can call `Dispose()` on the resulting tensor reference."
   ]
  },
  {
   "cell_type": "code",
   "execution_count": 67,
   "metadata": {
    "dotnet_interactive": {
     "language": "csharp"
    },
    "vscode": {
     "languageId": "polyglot-notebook"
    }
   },
   "outputs": [
    {
     "data": {
      "text/plain": [
       "[2x2x5], type = Float32, device = cpu\r\n",
       "[0,..,..] =\r\n",
       "   3 250 3.2 3.3 3.4\r\n",
       " 3.5 3.6 3.7 3.8 3.9\r\n",
       "\r\n",
       "[1,..,..] =\r\n",
       "   4 4.1 4.2 4.3 4.4\r\n",
       " 4.5 4.6 4.7 4.8 4.9\r\n"
      ]
     },
     "metadata": {},
     "output_type": "display_data"
    }
   ],
   "source": [
    "var a = t.alias();\n",
    "a[0,0,1] = torch.tensor(250);\n",
    "a.Dispose();\n",
    "t"
   ]
  },
  {
   "cell_type": "markdown",
   "metadata": {},
   "source": [
    "TorchSharp has great support for complex tensors, which are as easy to create as others. Complex numbers are commonly used in signal processing scenarios, such as audio analysis. Complex numbers have two components -- the real and the imaginary parts."
   ]
  },
  {
   "cell_type": "code",
   "execution_count": 69,
   "metadata": {
    "dotnet_interactive": {
     "language": "csharp"
    },
    "vscode": {
     "languageId": "polyglot-notebook"
    }
   },
   "outputs": [
    {
     "data": {
      "text/plain": [
       "[3x4], type = ComplexFloat32, device = cpu\n",
       " 0.54+0.38i 0.90+0.67i 0.79+0.88i 0.19+0.44i\n",
       " 0.12+0.11i 0.33+0.01i 0.76+0.35i 0.76+0.66i\n",
       " 0.46+0.20i 0.90+0.66i 0.30+0.45i 0.93+0.01i\n"
      ]
     },
     "metadata": {},
     "output_type": "display_data"
    }
   ],
   "source": [
    "var ct = torch.rand(3, 4, dtype:torch.ScalarType.ComplexFloat32);\n",
    "ct.str(fltFormat:\"0.00\")"
   ]
  },
  {
   "cell_type": "markdown",
   "metadata": {},
   "source": [
    "To get the real and imaginary parts, there are property accessors for that:"
   ]
  },
  {
   "cell_type": "code",
   "execution_count": 71,
   "metadata": {
    "dotnet_interactive": {
     "language": "csharp"
    },
    "vscode": {
     "languageId": "polyglot-notebook"
    }
   },
   "outputs": [
    {
     "data": {
      "text/plain": [
       "[3x4], type = Float32, device = cpu\n",
       " 0.54 0.90 0.79 0.19\n",
       " 0.12 0.33 0.76 0.76\n",
       " 0.46 0.90 0.30 0.93\n"
      ]
     },
     "metadata": {},
     "output_type": "display_data"
    }
   ],
   "source": [
    "ct.real.str(fltFormat: \"0.00\")"
   ]
  },
  {
   "cell_type": "code",
   "execution_count": 72,
   "metadata": {
    "dotnet_interactive": {
     "language": "csharp"
    },
    "vscode": {
     "languageId": "polyglot-notebook"
    }
   },
   "outputs": [
    {
     "data": {
      "text/plain": [
       "[3x4], type = Float32, device = cpu\n",
       " 0.38 0.67 0.88 0.44\n",
       " 0.11 0.01 0.35 0.66\n",
       " 0.20 0.66 0.45 0.01\n"
      ]
     },
     "metadata": {},
     "output_type": "display_data"
    }
   ],
   "source": [
    "ct.imag.str(fltFormat: \"0.00\")"
   ]
  },
  {
   "cell_type": "markdown",
   "metadata": {},
   "source": [
    "When you create random complex tensors, both the real and imaginary parts are random. However, when you create a tensor with `torch.ones`, only the real part is filled in -- the imaginary part is '0'"
   ]
  },
  {
   "cell_type": "code",
   "execution_count": 73,
   "metadata": {
    "dotnet_interactive": {
     "language": "csharp"
    },
    "vscode": {
     "languageId": "polyglot-notebook"
    }
   },
   "outputs": [
    {
     "data": {
      "text/plain": [
       "[3x4], type = ComplexFloat32, device = cpu\r\n",
       " 1 1 1 1\r\n",
       " 1 1 1 1\r\n",
       " 1 1 1 1\r\n"
      ]
     },
     "metadata": {},
     "output_type": "display_data"
    }
   ],
   "source": [
    "torch.ones(3,4,dtype:torch.ScalarType.ComplexFloat32)"
   ]
  },
  {
   "cell_type": "markdown",
   "metadata": {},
   "source": [
    "Experienced PyTorch users will notice that TorchSharp doesn't represent complex numbers in the str() output exactly the same: TorchSharp uses 'i' instead of 'j' to indicate the imaginary part, and we don't print the real or imaginary part if it is zero (unless they are both zero, of course)."
   ]
  }
 ],
 "metadata": {
  "kernelspec": {
   "display_name": ".NET (C#)",
   "language": "C#",
   "name": ".net-csharp"
  },
  "language_info": {
   "name": "C#"
  }
 },
 "nbformat": 4,
 "nbformat_minor": 2
}
