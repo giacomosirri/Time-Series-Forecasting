{
 "cells": [
  {
   "cell_type": "code",
   "execution_count": 2,
   "metadata": {
    "dotnet_interactive": {
     "language": "csharp"
    },
    "vscode": {
     "languageId": "polyglot-notebook"
    }
   },
   "outputs": [
    {
     "data": {
      "text/html": [
       "<div><div></div><div></div><div><strong>Installed Packages</strong><ul><li><span>TorchSharp-cpu, 0.99.4</span></li></ul></div></div>"
      ]
     },
     "metadata": {},
     "output_type": "display_data"
    }
   ],
   "source": [
    "#r \"nuget:TorchSharp-cpu\"\n",
    "\n",
    "using TorchSharp;\n",
    "using static TorchSharp.TensorExtensionMethods;\n",
    "using static TorchSharp.torch.distributions;\n",
    "using Microsoft.DotNet.Interactive.Formatting;\n",
    "\n",
    "Formatter.SetPreferredMimeTypesFor(typeof(torch.Tensor), \"text/plain\");\n",
    "Formatter.Register<torch.Tensor>((torch.Tensor x) => x.ToString(TorchSharp.TensorStringStyle.Default));"
   ]
  },
  {
   "cell_type": "markdown",
   "metadata": {},
   "source": [
    "# Random Numbers and Distributions\n",
    "\n",
    "There is a rich set of random number generation APIs in TorchSharp. We've already seen the ones that are easiest to use: randn(), rand(), and randint(). Normal and uniform distributions are the foundation for many other random number features.\n",
    "\n",
    "Note that randint() will generate integers, and the default type is a 64-bit integer. Same goes for randperm()."
   ]
  },
  {
   "cell_type": "code",
   "execution_count": 17,
   "metadata": {
    "dotnet_interactive": {
     "language": "csharp"
    },
    "vscode": {
     "languageId": "polyglot-notebook"
    }
   },
   "outputs": [
    {
     "name": "stdout",
     "output_type": "stream",
     "text": [
      "[10], type = Float32, device = cpu 0.60028 0.56578 0.094895 0.096953 0.37144 0.026844 0.19478 0.78418 0.58637 0.17138\n",
      "[10], type = Float32, device = cpu 0.32318 -0.47797 1.5618 -0.12975 -0.1335 1.274 -0.12877 -2.6481 0.61141 0.47524\n",
      "[10], type = Int64, device = cpu 46 11 42 37 24 5 84 79 67 54\n",
      "[25], type = Int64, device = cpu 24 0 3 10 21 8 23 12 22 6 2 19 5 17 9 14 18 4 13 7 15 20 11 16 1\n"
     ]
    }
   ],
   "source": [
    "torch.rand(10).print();\n",
    "torch.randn(10).print();\n",
    "torch.randint(100,10).print();\n",
    "torch.randperm(25).print();"
   ]
  },
  {
   "cell_type": "markdown",
   "metadata": {},
   "source": [
    "In the `TorchSharp.torch.distributions` static class, there is a much richer collection of distributions. Unlike the three basic generators, these generators are organized as classes that you call a method named `sample()` to get a bunch of random number."
   ]
  },
  {
   "cell_type": "markdown",
   "metadata": {},
   "source": [
    "## Setting the seed\n",
    "\n",
    "Like most random number libraries, TorchSharp allows you to set the seed used for random number generation. You should see the first series and the last being identical, while the one in the middle is different.\n",
    "\n",
    "One peculiarity about TorchSharp is that using the same initial seed will not lead to the same sequence of numbers when using a CPU vs. a GPU. You cannot reproduce results you had on a CPU by running things on a GPU."
   ]
  },
  {
   "cell_type": "code",
   "execution_count": 18,
   "metadata": {
    "dotnet_interactive": {
     "language": "csharp"
    },
    "vscode": {
     "languageId": "polyglot-notebook"
    }
   },
   "outputs": [
    {
     "name": "stdout",
     "output_type": "stream",
     "text": [
      "[10], type = Float32, device = cpu 0.69071 0.94377 0.033924 0.28365 0.10061 0.89436 0.21124 0.16128 0.59802 0.43391\n",
      "[10], type = Float32, device = cpu 0.43424 0.53511 0.83021 0.12386 0.029321 0.5494 0.38249 0.54626 0.46828 0.017153\n",
      "[10], type = Float32, device = cpu 0.69071 0.94377 0.033924 0.28365 0.10061 0.89436 0.21124 0.16128 0.59802 0.43391\n"
     ]
    }
   ],
   "source": [
    "torch.random.manual_seed(4711);\n",
    "torch.rand(10).print();\n",
    "torch.random.manual_seed(17);\n",
    "torch.rand(10).print();\n",
    "torch.random.manual_seed(4711);\n",
    "torch.rand(10).print();"
   ]
  },
  {
   "attachments": {},
   "cell_type": "markdown",
   "metadata": {},
   "source": [
    "## Coin Toss\n",
    "\n",
    "For example, to get a single-value sample of the Bernoulli distribution, which is a binary false/true, 0/1, yes/no, heads/tails generator, you do the following, passing in the probability of the result being '1':"
   ]
  },
  {
   "cell_type": "code",
   "execution_count": 30,
   "metadata": {
    "dotnet_interactive": {
     "language": "csharp"
    },
    "vscode": {
     "languageId": "polyglot-notebook"
    }
   },
   "outputs": [
    {
     "data": {
      "text/html": [
       "<div class=\"dni-plaintext\"><pre>0</pre></div><style>\r\n",
       ".dni-code-hint {\r\n",
       "    font-style: italic;\r\n",
       "    overflow: hidden;\r\n",
       "    white-space: nowrap;\r\n",
       "}\r\n",
       ".dni-treeview {\r\n",
       "    white-space: nowrap;\r\n",
       "}\r\n",
       ".dni-treeview td {\r\n",
       "    vertical-align: top;\r\n",
       "    text-align: start;\r\n",
       "}\r\n",
       "details.dni-treeview {\r\n",
       "    padding-left: 1em;\r\n",
       "}\r\n",
       "table td {\r\n",
       "    text-align: start;\r\n",
       "}\r\n",
       "table tr { \r\n",
       "    vertical-align: top; \r\n",
       "    margin: 0em 0px;\r\n",
       "}\r\n",
       "table tr td pre \r\n",
       "{ \r\n",
       "    vertical-align: top !important; \r\n",
       "    margin: 0em 0px !important;\r\n",
       "} \r\n",
       "table th {\r\n",
       "    text-align: start;\r\n",
       "}\r\n",
       "</style>"
      ]
     },
     "metadata": {},
     "output_type": "display_data"
    }
   ],
   "source": [
    "var bern = Bernoulli(torch.tensor(0.5f));\n",
    "bern.sample().item<float>()"
   ]
  },
  {
   "attachments": {},
   "cell_type": "markdown",
   "metadata": {},
   "source": [
    "The element type of the sample will be determined by the element type of the probability tensor, so using precise number literal syntax is important.\n",
    "\n",
    "Usually, you want more than one value, you want a tensor-full of them. `sample()` takes as its arguments the size of the dimensions of the tensor."
   ]
  },
  {
   "cell_type": "code",
   "execution_count": 9,
   "metadata": {
    "dotnet_interactive": {
     "language": "csharp"
    },
    "vscode": {
     "languageId": "polyglot-notebook"
    }
   },
   "outputs": [
    {
     "data": {
      "text/plain": [
       "[3x4], type = Float32, device = cpu\r\n",
       " 0 1 0 0\r\n",
       " 1 1 1 0\r\n",
       " 0 0 0 1\r\n"
      ]
     },
     "metadata": {},
     "output_type": "display_data"
    }
   ],
   "source": [
    "bern.sample(3,4)"
   ]
  },
  {
   "attachments": {},
   "cell_type": "markdown",
   "metadata": {},
   "source": [
    "To help with sampling, there's a class called `Binomial` which will run a number of coin tosses and count the number of times the result is '1'."
   ]
  },
  {
   "cell_type": "code",
   "execution_count": 51,
   "metadata": {
    "dotnet_interactive": {
     "language": "csharp"
    },
    "vscode": {
     "languageId": "polyglot-notebook"
    }
   },
   "outputs": [
    {
     "data": {
      "text/html": [
       "<div class=\"dni-plaintext\"><pre>26</pre></div><style>\r\n",
       ".dni-code-hint {\r\n",
       "    font-style: italic;\r\n",
       "    overflow: hidden;\r\n",
       "    white-space: nowrap;\r\n",
       "}\r\n",
       ".dni-treeview {\r\n",
       "    white-space: nowrap;\r\n",
       "}\r\n",
       ".dni-treeview td {\r\n",
       "    vertical-align: top;\r\n",
       "    text-align: start;\r\n",
       "}\r\n",
       "details.dni-treeview {\r\n",
       "    padding-left: 1em;\r\n",
       "}\r\n",
       "table td {\r\n",
       "    text-align: start;\r\n",
       "}\r\n",
       "table tr { \r\n",
       "    vertical-align: top; \r\n",
       "    margin: 0em 0px;\r\n",
       "}\r\n",
       "table tr td pre \r\n",
       "{ \r\n",
       "    vertical-align: top !important; \r\n",
       "    margin: 0em 0px !important;\r\n",
       "} \r\n",
       "table th {\r\n",
       "    text-align: start;\r\n",
       "}\r\n",
       "</style>"
      ]
     },
     "metadata": {},
     "output_type": "display_data"
    }
   ],
   "source": [
    "var bin = Binomial(torch.tensor(100), torch.tensor(0.25f));\n",
    "bin.sample().item<float>()"
   ]
  },
  {
   "cell_type": "code",
   "execution_count": 52,
   "metadata": {
    "dotnet_interactive": {
     "language": "csharp"
    },
    "vscode": {
     "languageId": "polyglot-notebook"
    }
   },
   "outputs": [
    {
     "data": {
      "text/plain": [
       "[3x4], type = Float32, device = cpu\r\n",
       " 16 26 33 17\r\n",
       " 29 28 30 31\r\n",
       " 27 21 25 23\r\n"
      ]
     },
     "metadata": {},
     "output_type": "display_data"
    }
   ],
   "source": [
    "bin.sample(3,4)"
   ]
  },
  {
   "cell_type": "markdown",
   "metadata": {},
   "source": [
    "## Categories\n",
    "\n",
    "In the coin toss scenario, there were two categories -- yes/no, true/false, 0/1, etc. A more general class of distributions support N different categories. The foundational class for that is called 'Categorical,' and it works just like Bernoulli. You tell it how many categories there are, the probabilities for those categories (it doesn't have to be even), and then you get your sample. The length of the probabilities tensor tells the Categorical class how many categories there are. The categories are represented as integers in the range [0..N[."
   ]
  },
  {
   "cell_type": "code",
   "execution_count": 53,
   "metadata": {
    "dotnet_interactive": {
     "language": "csharp"
    },
    "vscode": {
     "languageId": "polyglot-notebook"
    }
   },
   "outputs": [
    {
     "data": {
      "text/plain": [
       "[6], type = Int64, device = cpu\r\n",
       " 1 0 3 3 1 1\r\n"
      ]
     },
     "metadata": {},
     "output_type": "display_data"
    }
   ],
   "source": [
    "var cat = Categorical(torch.tensor(new float[]{0.1f, 0.7f, 0.1f, 0.1f}));\n",
    "cat.sample(6)"
   ]
  },
  {
   "cell_type": "markdown",
   "metadata": {},
   "source": [
    "There's a class corresponding to 'Binomial' for categorical distributions. Here, the category is denoted by the index into the tensor. For sample sizes of at least one dimension, the innermost dimension (the last index) representes the category. In other words, each row is a sample, each column is a category. The value in each cell is how many times (out of the total count specified) that the category was selected."
   ]
  },
  {
   "cell_type": "code",
   "execution_count": 60,
   "metadata": {
    "dotnet_interactive": {
     "language": "csharp"
    },
    "vscode": {
     "languageId": "polyglot-notebook"
    }
   },
   "outputs": [
    {
     "name": "stdout",
     "output_type": "stream",
     "text": [
      "[4], type = Float32, device = cpu\n",
      " 9 73 11 7\n",
      "\n",
      "[5x4], type = Float32, device = cpu\n",
      "  7 72 13  8\n",
      "  8 74  5 13\n",
      " 10 65 14 11\n",
      " 10 70  5 15\n",
      " 12 61 14 13\n",
      "\n"
     ]
    },
    {
     "data": {
      "text/plain": [
       "[2x3x4], type = Float32, device = cpu\r\n",
       "[0,..,..] =\r\n",
       " 10 72  9  9\r\n",
       "  7 78  5 10\r\n",
       " 10 64 15 11\r\n",
       "\r\n",
       "[1,..,..] =\r\n",
       "  8 69 12 11\r\n",
       "  9 73 10  8\r\n",
       " 12 63 16  9\r\n"
      ]
     },
     "metadata": {},
     "output_type": "display_data"
    }
   ],
   "source": [
    "var mult = Multinomial(100, new float[]{0.1f, 0.7f, 0.1f, 0.1f});\n",
    "Console.WriteLine(mult.sample().str());\n",
    "Console.WriteLine(mult.sample(5).str());\n",
    "mult.sample(2,3)"
   ]
  },
  {
   "cell_type": "markdown",
   "metadata": {},
   "source": [
    "## Real-valued Distributions\n",
    "\n",
    "The majority of random distributions are concerned with real numbers, parameteried by either a min/max range, or the mean and standard deviation, or parameters specific to a distribution.\n",
    "\n",
    "The normal, a.k.a. Gaussian, distribution is the familiar bell-curve, where the likelihood of a value being selected is much higher closer to the mean. \n",
    "\n",
    "With 'torch.randn()' and 'torch.rand()', the mean is always zero, and the standard deviation always one. To alter them, you get the sample, multiply by the desired standard deviation, then add the desired mean (in that order).\n",
    "\n",
    "You can still do that when you are using the distribution classes, but they also allow you to pass in the parameters when creating the distribution class. This is convenient when you are passing the distribution to a function, which doesn't necessarily have to know anything about what kind of distrubition it is given, or its parameters."
   ]
  },
  {
   "cell_type": "code",
   "execution_count": 92,
   "metadata": {
    "dotnet_interactive": {
     "language": "csharp"
    },
    "vscode": {
     "languageId": "polyglot-notebook"
    }
   },
   "outputs": [
    {
     "name": "stdout",
     "output_type": "stream",
     "text": [
      "[5x5], type = Float32, device = cpu\n",
      " 0.75503 0.56854 0.51172  0.3749 0.65813\n",
      " 0.69464  0.4754 0.46847  0.4506 0.37406\n",
      " 0.49459 0.29273 0.57955  0.5678 0.44996\n",
      " 0.38559 0.41159 0.44973 0.46208 0.65809\n",
      " 0.47752 0.48089 0.27247 0.57379 0.70928\n",
      "\n",
      "[5x5], type = Float32, device = cpu\n",
      " 0.16162 0.13561 0.16598 0.11149 0.15588\n",
      " 0.15314 0.16739  0.1255 0.15724 0.13274\n",
      " 0.18135 0.13985 0.16685 0.16375 0.17819\n",
      " 0.13424 0.14583  0.1146 0.16302 0.18071\n",
      " 0.11286 0.18956 0.15141 0.17078 0.14096\n",
      "\n"
     ]
    }
   ],
   "source": [
    "torch.Tensor GetTensorFromDistribution(Distribution dist) => dist.sample(5,5);\n",
    "\n",
    "var norm1 = Normal(torch.tensor(0.5f), torch.tensor(0.125f));\n",
    "var norm2 = Normal(torch.tensor(0.15f), torch.tensor(0.025f));\n",
    "\n",
    "Console.WriteLine(GetTensorFromDistribution(norm1).str());\n",
    "Console.WriteLine(GetTensorFromDistribution(norm2).str());"
   ]
  },
  {
   "cell_type": "markdown",
   "metadata": {},
   "source": [
    "The same goes for uniformly distributed numbers -- there's a class parameterized by the boundaries: [low,high]."
   ]
  },
  {
   "cell_type": "code",
   "execution_count": 93,
   "metadata": {
    "dotnet_interactive": {
     "language": "csharp"
    },
    "vscode": {
     "languageId": "polyglot-notebook"
    }
   },
   "outputs": [
    {
     "data": {
      "text/plain": [
       "[5x5], type = Float32, device = cpu\r\n",
       " 10.107 14.147 10.603 15.577 16.566\r\n",
       " 16.541 16.203 14.338 13.267  10.56\r\n",
       " 11.129 13.218 10.185 12.109 12.166\r\n",
       "   13.1 16.964 16.228 11.287 11.379\r\n",
       " 11.114 15.412 11.667 14.539 14.927\r\n"
      ]
     },
     "metadata": {},
     "output_type": "display_data"
    }
   ],
   "source": [
    "GetTensorFromDistribution(Uniform(torch.tensor(10.0f), torch.tensor(17.0f)))"
   ]
  },
  {
   "attachments": {},
   "cell_type": "markdown",
   "metadata": {},
   "source": [
    "Those distributions are just the most basic ones; there's a number of more esoteric distributions that are beyond the scope of this tutorial to describe when to use. The usage patterns are the same, though: create a distribution instance, and then call `sample()` to get a tensor filled with random numbers from the distribution."
   ]
  },
  {
   "cell_type": "markdown",
   "metadata": {},
   "source": [
    "# Generator\n",
    "\n",
    "So far, all the random numbers have been using the default RNG. This is a process-wide generator, which is returned by the call to manual_seed() that we saw before. In the preceding examples, the return value was ignored. Once the generator has been captured, it can be used to parameterize random number generation. Most random number APIs take an optional generator argument. \n",
    "\n",
    "Usually, the generator is the last argument, defaulted to 'null'. Often, there are other parameters with default values that come before the generator, so it's a good idea to get into the habit of passing the generator instance by name."
   ]
  },
  {
   "cell_type": "code",
   "execution_count": 96,
   "metadata": {
    "dotnet_interactive": {
     "language": "csharp"
    },
    "vscode": {
     "languageId": "polyglot-notebook"
    }
   },
   "outputs": [
    {
     "name": "stdout",
     "output_type": "stream",
     "text": [
      "[2x3], type = Float32, device = cpu 0.43424  0.53511 0.83021 0.12386 0.029321  0.5494\n",
      "[2x3], type = Float32, device = cpu 1.5401  0.60896   0.68293  1.262 0.020885 -0.035457\n"
     ]
    }
   ],
   "source": [
    "torch.Generator gen1 = torch.random.manual_seed(17);\n",
    "torch.rand(2,3, generator: gen1).print();\n",
    "torch.randn(2,3, generator: gen1).print();"
   ]
  },
  {
   "attachments": {},
   "cell_type": "markdown",
   "metadata": {},
   "source": [
    "Using the default RNG goes a long way, but in complex scenarios that require specific control over random number sequences, having a generator object will be required. For example, in a multi-threaded application, there is no reproducibility, even with a manually set seed, if more than one thread is generating numbers. In that situation, it can make sense to have each thread have its own generator object.\n",
    "\n",
    "Generator objects may be created directly, either given a seed or using '0' as the seed. You can also control whether it's a CPU or GPU generator. Each generator instance maintains its own state, so if two generators are given the same seed, they will always generate the same sequence of numbers. Obviously, with the caveat that parallelism introduces non-determinism."
   ]
  },
  {
   "cell_type": "code",
   "execution_count": 100,
   "metadata": {
    "dotnet_interactive": {
     "language": "csharp"
    },
    "vscode": {
     "languageId": "polyglot-notebook"
    }
   },
   "outputs": [
    {
     "name": "stdout",
     "output_type": "stream",
     "text": [
      "[2x3], type = Float32, device = cpu 0.21357 0.042377 0.74202 0.39866  0.87494 0.73042\n",
      "[2x3], type = Float32, device = cpu 0.21357 0.042377 0.74202 0.39866  0.87494 0.73042\n",
      "[2x3], type = Float32, device = cpu 0.59938  0.12294 0.19049 0.31288 0.014337  0.6759\n",
      "[2x3], type = Float32, device = cpu 0.59938  0.12294 0.19049 0.31288 0.014337  0.6759\n"
     ]
    }
   ],
   "source": [
    "var gen2 = new torch.Generator(189);\n",
    "var gen3 = new torch.Generator(189);\n",
    "\n",
    "torch.rand(2,3, generator: gen2).print();\n",
    "torch.rand(2,3, generator: gen3).print();\n",
    "torch.rand(2,3, generator: gen2).print();\n",
    "torch.rand(2,3, generator: gen3).print();"
   ]
  },
  {
   "cell_type": "markdown",
   "metadata": {},
   "source": [
    "In the case of distribution instances, a generator object is passed in when creating the instance, not when sampling."
   ]
  },
  {
   "cell_type": "code",
   "execution_count": 101,
   "metadata": {
    "dotnet_interactive": {
     "language": "csharp"
    },
    "vscode": {
     "languageId": "polyglot-notebook"
    }
   },
   "outputs": [
    {
     "data": {
      "text/plain": [
       "[10], type = Float32, device = cpu\r\n",
       " 0.63033 0.55221 0.70623 0.49354 0.60153 0.48434 0.67161 0.49847 0.28315 0.50293\r\n"
      ]
     },
     "metadata": {},
     "output_type": "display_data"
    }
   ],
   "source": [
    "norm1 = Normal(torch.tensor(0.5f), torch.tensor(0.125f), generator: gen2);\n",
    "norm1.sample(10)"
   ]
  }
 ],
 "metadata": {
  "kernelspec": {
   "display_name": ".NET (C#)",
   "language": "C#",
   "name": ".net-csharp"
  },
  "language_info": {
   "name": "C#"
  }
 },
 "nbformat": 4,
 "nbformat_minor": 2
}
