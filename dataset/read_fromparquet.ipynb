{
 "cells": [
  {
   "cell_type": "code",
   "execution_count": 1,
   "metadata": {},
   "outputs": [],
   "source": [
    "import pandas as pd\n",
    "import pyarrow.parquet\n",
    "\n",
    "schema = pyarrow.parquet.read_schema(\"timeseries-2009-2016.parquet\", memory_map=True)"
   ]
  },
  {
   "cell_type": "code",
   "execution_count": 2,
   "metadata": {},
   "outputs": [
    {
     "data": {
      "text/plain": [
       "Date Time: string\n",
       "p (mbar): double\n",
       "T (degC): double\n",
       "Tpot (K): double\n",
       "Tdew (degC): double\n",
       "rh (%): double\n",
       "VPmax (mbar): double\n",
       "VPact (mbar): double\n",
       "VPdef (mbar): double\n",
       "sh (g/kg): double\n",
       "H2OC (mmol/mol): double\n",
       "rho (g/m**3): double\n",
       "wv (m/s): double\n",
       "max. wv (m/s): double\n",
       "wd (deg): double\n",
       "-- schema metadata --\n",
       "pandas: '{\"column_indexes\": [{\"field_name\": null, \"metadata\": null, \"name' + 2100"
      ]
     },
     "execution_count": 2,
     "metadata": {},
     "output_type": "execute_result"
    }
   ],
   "source": [
    "schema"
   ]
  }
 ],
 "metadata": {
  "kernelspec": {
   "display_name": "Python 3",
   "language": "python",
   "name": "python3"
  },
  "language_info": {
   "codemirror_mode": {
    "name": "ipython",
    "version": 3
   },
   "file_extension": ".py",
   "mimetype": "text/x-python",
   "name": "python",
   "nbconvert_exporter": "python",
   "pygments_lexer": "ipython3",
   "version": "3.10.10"
  },
  "orig_nbformat": 4
 },
 "nbformat": 4,
 "nbformat_minor": 2
}
